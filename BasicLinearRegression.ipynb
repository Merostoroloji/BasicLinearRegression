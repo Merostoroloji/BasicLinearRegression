{
 "cells": [
  {
   "cell_type": "markdown",
   "id": "e7828b2c-d75b-4a16-b17f-bb8c8c0e7a66",
   "metadata": {},
   "source": [
    "# Note: I am in learning period so if you also want to learn or enhance your skills, please check someone else notebook. These explanation only for me to understand what i am working on and to see how consciously i code."
   ]
  },
  {
   "cell_type": "markdown",
   "id": "64c4c322-b65f-4001-ac24-e860f303579b",
   "metadata": {},
   "source": [
    "#### This regression estimates are used to explain the relationship between one dependent variable and one or more independent variables. y = a + bX  \n",
    "\n",
    "### y = independent variables\n",
    "### x = dependent variables\n",
    "### a = intercept (expected value of y when the value of x = 0)\n",
    "### b = slope coefficient (as x increases, y also increases when b positive or opposite)\n"
   ]
  },
  {
   "cell_type": "code",
   "execution_count": 1,
   "id": "fba99ec2-f6d6-402b-a2c2-8a3d23a0fa31",
   "metadata": {},
   "outputs": [
    {
     "data": {
      "text/html": [
       "<div>\n",
       "<style scoped>\n",
       "    .dataframe tbody tr th:only-of-type {\n",
       "        vertical-align: middle;\n",
       "    }\n",
       "\n",
       "    .dataframe tbody tr th {\n",
       "        vertical-align: top;\n",
       "    }\n",
       "\n",
       "    .dataframe thead th {\n",
       "        text-align: right;\n",
       "    }\n",
       "</style>\n",
       "<table border=\"1\" class=\"dataframe\">\n",
       "  <thead>\n",
       "    <tr style=\"text-align: right;\">\n",
       "      <th></th>\n",
       "      <th>x</th>\n",
       "      <th>y</th>\n",
       "    </tr>\n",
       "  </thead>\n",
       "  <tbody>\n",
       "    <tr>\n",
       "      <th>0</th>\n",
       "      <td>24.0</td>\n",
       "      <td>21.549452</td>\n",
       "    </tr>\n",
       "    <tr>\n",
       "      <th>1</th>\n",
       "      <td>50.0</td>\n",
       "      <td>47.464463</td>\n",
       "    </tr>\n",
       "    <tr>\n",
       "      <th>2</th>\n",
       "      <td>15.0</td>\n",
       "      <td>17.218656</td>\n",
       "    </tr>\n",
       "    <tr>\n",
       "      <th>3</th>\n",
       "      <td>38.0</td>\n",
       "      <td>36.586398</td>\n",
       "    </tr>\n",
       "    <tr>\n",
       "      <th>4</th>\n",
       "      <td>87.0</td>\n",
       "      <td>87.288984</td>\n",
       "    </tr>\n",
       "  </tbody>\n",
       "</table>\n",
       "</div>"
      ],
      "text/plain": [
       "      x          y\n",
       "0  24.0  21.549452\n",
       "1  50.0  47.464463\n",
       "2  15.0  17.218656\n",
       "3  38.0  36.586398\n",
       "4  87.0  87.288984"
      ]
     },
     "execution_count": 1,
     "metadata": {},
     "output_type": "execute_result"
    }
   ],
   "source": [
    "import numpy as np\n",
    "import pandas as pd\n",
    "from matplotlib import pyplot as plt\n",
    "from sklearn.linear_model import LinearRegression\n",
    "\n",
    "\n",
    "\n",
    "train = pd.read_csv(\"train.csv\") \n",
    "test = pd.read_csv(\"test.csv\") \n",
    "train = train.dropna()\n",
    "test = test.dropna()\n",
    "train.head()"
   ]
  },
  {
   "cell_type": "code",
   "execution_count": 2,
   "id": "6e7055d3-3142-4236-8beb-0e25f9feaf12",
   "metadata": {},
   "outputs": [],
   "source": [
    "X_train = np.array(train.iloc[:, :-1].values)\n",
    "y_train = np.array(train.iloc[:, 1].values)\n",
    "X_test = np.array(test.iloc[:, :-1].values)\n",
    "y_test = np.array(test.iloc[:, 1].values)\n",
    "\n",
    "\n",
    "model = LinearRegression(fit_intercept=True, copy_X=True, n_jobs=2)"
   ]
  },
  {
   "cell_type": "code",
   "execution_count": 3,
   "id": "426f79fc-ea69-4193-81f3-e0f2b856cb27",
   "metadata": {},
   "outputs": [
    {
     "data": {
      "text/html": [
       "<div>\n",
       "<style scoped>\n",
       "    .dataframe tbody tr th:only-of-type {\n",
       "        vertical-align: middle;\n",
       "    }\n",
       "\n",
       "    .dataframe tbody tr th {\n",
       "        vertical-align: top;\n",
       "    }\n",
       "\n",
       "    .dataframe thead th {\n",
       "        text-align: right;\n",
       "    }\n",
       "</style>\n",
       "<table border=\"1\" class=\"dataframe\">\n",
       "  <thead>\n",
       "    <tr style=\"text-align: right;\">\n",
       "      <th></th>\n",
       "      <th>Actual</th>\n",
       "      <th>Predicted</th>\n",
       "    </tr>\n",
       "  </thead>\n",
       "  <tbody>\n",
       "    <tr>\n",
       "      <th>0</th>\n",
       "      <td>79.775152</td>\n",
       "      <td>76.943276</td>\n",
       "    </tr>\n",
       "    <tr>\n",
       "      <th>1</th>\n",
       "      <td>23.177279</td>\n",
       "      <td>20.906519</td>\n",
       "    </tr>\n",
       "    <tr>\n",
       "      <th>2</th>\n",
       "      <td>25.609262</td>\n",
       "      <td>21.907175</td>\n",
       "    </tr>\n",
       "    <tr>\n",
       "      <th>3</th>\n",
       "      <td>17.857388</td>\n",
       "      <td>19.905862</td>\n",
       "    </tr>\n",
       "    <tr>\n",
       "      <th>4</th>\n",
       "      <td>41.849864</td>\n",
       "      <td>35.916364</td>\n",
       "    </tr>\n",
       "    <tr>\n",
       "      <th>...</th>\n",
       "      <td>...</td>\n",
       "      <td>...</td>\n",
       "    </tr>\n",
       "    <tr>\n",
       "      <th>295</th>\n",
       "      <td>68.545888</td>\n",
       "      <td>70.939338</td>\n",
       "    </tr>\n",
       "    <tr>\n",
       "      <th>296</th>\n",
       "      <td>47.334876</td>\n",
       "      <td>45.922928</td>\n",
       "    </tr>\n",
       "    <tr>\n",
       "      <th>297</th>\n",
       "      <td>54.090637</td>\n",
       "      <td>54.928836</td>\n",
       "    </tr>\n",
       "    <tr>\n",
       "      <th>298</th>\n",
       "      <td>63.297171</td>\n",
       "      <td>61.933430</td>\n",
       "    </tr>\n",
       "    <tr>\n",
       "      <th>299</th>\n",
       "      <td>52.459467</td>\n",
       "      <td>46.923584</td>\n",
       "    </tr>\n",
       "  </tbody>\n",
       "</table>\n",
       "<p>300 rows × 2 columns</p>\n",
       "</div>"
      ],
      "text/plain": [
       "        Actual  Predicted\n",
       "0    79.775152  76.943276\n",
       "1    23.177279  20.906519\n",
       "2    25.609262  21.907175\n",
       "3    17.857388  19.905862\n",
       "4    41.849864  35.916364\n",
       "..         ...        ...\n",
       "295  68.545888  70.939338\n",
       "296  47.334876  45.922928\n",
       "297  54.090637  54.928836\n",
       "298  63.297171  61.933430\n",
       "299  52.459467  46.923584\n",
       "\n",
       "[300 rows x 2 columns]"
      ]
     },
     "execution_count": 3,
     "metadata": {},
     "output_type": "execute_result"
    }
   ],
   "source": [
    "model.fit(X_train,y_train)\n",
    "\n",
    "pred_y = model.predict(X_test)\n",
    "accuracy = model.score(X_test, y_test)\n",
    "\n",
    "comp = pd.DataFrame({'Actual': y_test.ravel(), 'Predicted': pred_y.ravel()});comp"
   ]
  },
  {
   "cell_type": "code",
   "execution_count": 4,
   "id": "5af835d4-bb27-4c27-acb8-3353896f52d3",
   "metadata": {},
   "outputs": [
    {
     "data": {
      "image/png": "[encoded data removed]",
      "text/plain": [
       "<Figure size 640x480 with 1 Axes>"
      ]
     },
     "metadata": {},
     "output_type": "display_data"
    },
    {
     "data": {
      "text/plain": [
       "0.9888014444327563"
      ]
     },
     "execution_count": 4,
     "metadata": {},
     "output_type": "execute_result"
    }
   ],
   "source": [
    "plt.plot(X_train, model.predict(X_train), color='red')\n",
    "plt.show()\n",
    "accuracy"
   ]
  },
  {
   "cell_type": "code",
   "execution_count": 7,
   "id": "2b3e3008-d492-4115-966f-eef80ac33d24",
   "metadata": {},
   "outputs": [
    {
     "name": "stdout",
     "output_type": "stream",
     "text": [
      "[1 2 3 4 5 6]\n"
     ]
    }
   ],
   "source": [
    "import numpy as np\n",
    "\n",
    "# Örnek bir çok boyutlu dizi\n",
    "multi_dimensional_array = np.array([[1, 2, 3], [4, 5, 6]])\n",
    "\n",
    "# Diziyi düzleştirin\n",
    "flat_array = multi_dimensional_array.ravel()\n",
    "\n",
    "# Düzleştirilmiş diziyi yazdırın\n",
    "print(flat_array)"
   ]
  },
  {
   "cell_type": "code",
   "execution_count": 3,
   "id": "7fc28373-caa2-46d5-bf8c-e00ac9dcee3e",
   "metadata": {},
   "outputs": [
    {
     "data": {
      "text/plain": [
       "[array([1, 2, 3, 4, 5, 6])]"
      ]
     },
     "execution_count": 3,
     "metadata": {},
     "output_type": "execute_result"
    }
   ],
   "source": [
    "a = [np.arange(1,7)];a"
   ]
  },
  {
   "cell_type": "code",
   "execution_count": 6,
   "id": "493f4d0d-7290-4718-9a4f-03b4ac2bec3f",
   "metadata": {
    "tags": []
   },
   "outputs": [
    {
     "data": {
      "image/png": "[encoded data removed]",
      "text/plain": [
       "<Figure size 640x480 with 1 Axes>"
      ]
     },
     "metadata": {},
     "output_type": "display_data"
    }
   ],
   "source": [
    "import matplotlib.pyplot as plt\n",
    "\n",
    "# Örnek veri\n",
    "x = [1, 2, 3, 4, 5]\n",
    "y = [10, 15, 7, 12, 9]\n",
    "\n",
    "# Bir çizim oluşturun\n",
    "fig, ax = plt.subplots()\n",
    "\n",
    "# Veriyi çizim üzerine ekleyin\n",
    "ax.plot(x, y, label='Veri')\n",
    "\n",
    "# Izgara çizgilerini etkinleştirin\n",
    "ax.grid(True)\n",
    "\n",
    "# Diğer çizim ayarları ve etiketler\n",
    "ax.set_xlabel('X Ekseni')\n",
    "ax.set_ylabel('Y Ekseni')\n",
    "ax.set_title('Örnek Çizim')\n",
    "ax.legend()\n",
    "\n",
    "# Çizimi göster\n",
    "plt.show()\n"
   ]
  },
  {
   "cell_type": "code",
   "execution_count": null,
   "id": "912138f6-0491-4bc0-a153-a93610b0e8c9",
   "metadata": {},
   "outputs": [],
   "source": []
  }
 ],
 "metadata": {
  "kernelspec": {
   "display_name": "Python 3 (ipykernel)",
   "language": "python",
   "name": "python3"
  },
  "language_info": {
   "codemirror_mode": {
    "name": "ipython",
    "version": 3
   },
   "file_extension": ".py",
   "mimetype": "text/x-python",
   "name": "python",
   "nbconvert_exporter": "python",
   "pygments_lexer": "ipython3",
   "version": "3.10.9"
  }
 },
 "nbformat": 4,
 "nbformat_minor": 5
}
